{
 "cells": [
  {
   "cell_type": "markdown",
   "id": "e6250a14",
   "metadata": {},
   "source": [
    "# The Brusselator\n",
    "\n",
    "The Brusselator is a model of hypothetical autocatalytic reactions in a diffusive medium. Nobel Prize winner Ilya Prigogine (1977) from University of Bruxelles proposed the model, hence the name.\n",
    "\n",
    "The system of chemical reactions writes:\n",
    "\\begin{eqnarray}\n",
    "A&\\overset{k_1}{\\longrightarrow}& U \\\\\n",
    "2U + V&\\overset{k_2}{\\longrightarrow}& 3U \\\\\n",
    "B+U&\\overset{k_3}{\\longrightarrow}& V+C \\\\\n",
    "U&\\overset{k_4}{\\longrightarrow}& D\n",
    "\\end{eqnarray}\n",
    "\n",
    "The concentrations $[A]$ and $[B]$ are assumed to be in large excess and therefore constant\n",
    "The first step is the formation of an intermediate specie $U$, the second is the autocatalytic step for $U$ and the consumption of $V$, the third is the regeneration of $V and the generation of $C$ and the fourth the generation of D. Altogether, this system reduces to\n",
    "\n",
    "$$\n",
    "A+B\\longrightarrow C+D\n",
    "$$\n",
    "\n",
    "Since $[A]$ and $[B]$ are constant, and $C$ and $D$ do not react with any other specie, only two equations describe the reaction process:\n",
    "\\begin{eqnarray}\n",
    "\\frac{d[U]}{d\\tau}&=&k_1[A]+k_2[U]^2[V]-k_3[B][U]-k_4[U]\\\\\n",
    "\\frac{d[V]}{d\\tau}&=&-k_2[U]^2[V]+k_3[B][U]\n",
    "\\end{eqnarray}\n",
    "where $\\tau$ is time.\n",
    "\n",
    "Using the following non-dimensional variable,\n",
    "\\begin{equation}\n",
    "u = [U]\\sqrt{\\frac{k_2}{k_4}};\\;v=[V]\\sqrt{\\frac{k_2}{k_4}};\\;a=[A]\\frac{k_1}{k_4}\\sqrt{\\frac{k_2}{k_4}};\\;b=[B]\\frac{k_3}{k_4};\\;t=k_4\\tau\\,,\n",
    "\\end{equation}\n",
    "and adding the diffusion process, yields\n",
    "\\begin{eqnarray}\n",
    "\\frac{\\partial u}{\\partial t}&=&a+u^2v-(b+1)u+D_u\\nabla^2u\\\\\n",
    "\\frac{\\partial v}{\\partial t}&=&-u^2v+bu+D_v\\nabla^2v\n",
    "\\end{eqnarray}\n",
    "where $D_u$ and $D_v$ are the normalized diffusion coefficients of species $U$ and $V$.\n",
    "\n",
    "The Brusselator is solved over a domain of dimensions $L_x\\times L_y=L^2$, with periodic boundary conditions on all edges. Periodicity is a mathematical tool used here to model a subset of a very large domain. Any variable $q$ defined over the domain satisfies, for $x\\in[0,Lx]$ and $y\\in[0,Ly]$,\n",
    "\n",
    "\\begin{equation}\n",
    "q(x\\pm mLx,y\\pm nLy,t)=q(x,y,t)\n",
    "\\end{equation}\n",
    "\n",
    "where $m$ and $n$ are any integer. For periodic or chaotic solutions, periodicity is acceptable if the domain is large enough to contain the most dynamically relevant scales. Spatial correlations should approach zero for separations approaching the shortest half length of the domain.\n",
    "\n",
    "The variables $u$ and $v$ must be initialize in order to solve the governing equation above. The values chosen by the user may lead to different states, depending on the choice of $a$ and $b$. This problem falls in the category of initial value problem (IVP)."
   ]
  },
  {
   "cell_type": "markdown",
   "id": "52d72558",
   "metadata": {},
   "source": [
    "## Methods\n",
    "\n",
    "### Time discretization\n",
    "The most popular method for IVP is the 4<sup>th</sup> Runge-Kutta method (RK41). Given an IVP problem, \n",
    "$$\n",
    "\\frac{dy}{dt} = f(y,t)\\;,\n",
    "$$\n",
    "starting at time $t=t_0$ and resolved with a time step $\\Delta t$,\n",
    "the RK41 integration from $u^{(n)}=y(t_n)$ to $u^{(n+1)}=y(t_{n+1})$ ($t_n = t_0+n\\Delta t$) writes\n",
    "$$\n",
    "y^{(n+1)}=y^{(n)}+\\frac{1}{6}k_1+\\frac{1}{3}(k_2+k_3)+\\frac{1}{6}k_4\n",
    "$$\n",
    "with\n",
    "\\begin{eqnarray}\n",
    "k_1 &=& \\Delta t\\,f\\left(y^{(n)},t_n\\right)\\\\\n",
    "k_2 &=& \\Delta t\\,f\\left(y^{(n)}+\\frac{1}{2}k_1,t_n+\\frac{1}{2}\\Delta t\\right)\\\\\n",
    "k_3 &=& \\Delta t\\,f\\left(y^{(n)}+\\frac{1}{2}k_2,t_n+\\frac{1}{2}\\Delta t\\right)\\\\\n",
    "k_4 &=& \\Delta t\\,f\\left(y^{(n)}+k_3,t_n+\\Delta t\\right)\n",
    "\\end{eqnarray}\n",
    "\n",
    "### Spatial discretization\n",
    "Since the domain is square and periodic, the grid is uniform with $N$ grid steps of length $\\Delta=L/N$. The variables $u$ and $v$ are stored at the cells' center $(x_i,y_i)=\\left((i+1/2)\\Delta,(j+1/2)\\Delta\\right)$ with $i$ and $j$ in the range $[0,N-1]$.\n",
    "\n",
    "For $i$ and $j$ in the range $[1,N-2]$, the Laplacian in the diffusion term is discretized with a 2<sup>nd</sup>-order finite difference scheme,\n",
    "$$\n",
    "\\nabla^2u^{(n)}_{i,j}=\\frac{u^{(n)}_{i-1,j}+u^{(n)}_{i+1,j}+u^{(n)}_{i,j-1}+u^{(n)}_{i,j+1}-4u^{(n)}_{i,j}}{\\Delta^2}\n",
    "$$\n",
    "\n",
    "At the boundaries, like $i=0,j\\in[1,N-2])$, periodicity must be enforced as\n",
    "$$\n",
    "u^{(n)}_{-1,j} = u^{(n)}_{N-1,j}\n",
    "$$\n",
    "yielding\n",
    "$$\n",
    "\\nabla^2u^{(n)}_{0,j}=\\frac{u^{(n)}_{N-1,j}+u^{(n)}_{1,j}+u^{(n)}_{0,j-1}+u^{(n)}_{0,j+1}-4u^{(n)}_{0,j}}{\\Delta^2}\n",
    "$$"
   ]
  },
  {
   "cell_type": "markdown",
   "id": "a97b2117",
   "metadata": {},
   "source": [
    "## Code\n",
    "### Modules"
   ]
  },
  {
   "cell_type": "code",
   "execution_count": null,
   "id": "0dbb1242",
   "metadata": {},
   "outputs": [],
   "source": [
    "import numpy as np\n",
    "import matplotlib.pyplot as plt"
   ]
  },
  {
   "cell_type": "markdown",
   "id": "48992f0a",
   "metadata": {},
   "source": [
    "## Parameters"
   ]
  },
  {
   "cell_type": "code",
   "execution_count": null,
   "id": "0fefbeea",
   "metadata": {},
   "outputs": [],
   "source": [
    "L = 200. # length of computational domain\n",
    "N = 200 # Number of computational nodes per direction\n",
    "Delta = L/N #Size of computational cell\n",
    "x = np.linspace(Delta/2,L-Delta/2,N) # horizontal location of comp. nodes\n",
    "z = np.linspace(Delta/2,L-Delta/2,N) # vertical location of comp. nodes\n",
    "X,Z = np.meshgrid(x,z,indexing='ij')\n",
    "a =4.5\n",
    "b = 7.5\n",
    "i_u = 0; i_v = 1 \n",
    "D = np.array([2.,16.])\n",
    "D_Deltasq = D/Delta**2\n",
    "dt = 0.01 #time step\n",
    "T = 50. #integration time\n",
    "# initisl values (mean values)\n",
    "u0 = 1.0\n",
    "v0 = 1.0\n",
    "# intensity of noise added to mean values\n",
    "noisemag = 0.0001"
   ]
  },
  {
   "cell_type": "markdown",
   "id": "4e0ba51b",
   "metadata": {},
   "source": [
    "### Definition of the RHS"
   ]
  },
  {
   "cell_type": "code",
   "execution_count": null,
   "id": "d5731ad4",
   "metadata": {},
   "outputs": [],
   "source": [
    "def rhs(y,t):\n",
    "    global a,b,D_Deltasq\n",
    "    f = np.zeros_like(y)\n",
    "    # Reaction stuff\n",
    "    f[:,:,i_u] = a + y[:,:,i_u]**2*y[:,:,i_v] - (b+1)*y[:,:,i_u]\n",
    "    f[:,:,i_v] = -y[:,:,i_u]**2*y[:,:,i_v] + b*y[:,:,i_u]\n",
    "\n",
    "    return f"
   ]
  },
  {
   "cell_type": "markdown",
   "id": "1940d679",
   "metadata": {},
   "source": [
    "### Time integration"
   ]
  },
  {
   "cell_type": "code",
   "execution_count": null,
   "id": "c3277a13",
   "metadata": {},
   "outputs": [],
   "source": [
    "t = 0\n",
    "y = np.zeros((N,N,2),dtype = 'float')\n",
    "y[:,:,i_u] = np.random.normal(u0,noisemag*u0,(N,N))\n",
    "y[:,:,i_v] = np.random.normal(u0,noisemag*v0,(N,N))\n",
    "\n",
    "while t < T:\n"
   ]
  },
  {
   "cell_type": "code",
   "execution_count": null,
   "id": "3f8a6d1a",
   "metadata": {},
   "outputs": [],
   "source": [
    "plt.figure(figsize=(3,2.75),dpi = 300)\n",
    "plt.contourf(X,Y,y[:,:,i_u])\n",
    "plt.show()"
   ]
  },
  {
   "cell_type": "code",
   "execution_count": null,
   "id": "3b1b0b17",
   "metadata": {},
   "outputs": [],
   "source": [
    "y[:,:,i_u]"
   ]
  },
  {
   "cell_type": "code",
   "execution_count": null,
   "id": "ed6e492d",
   "metadata": {},
   "outputs": [],
   "source": []
  }
 ],
 "metadata": {
  "kernelspec": {
   "display_name": "Python 3 (ipykernel)",
   "language": "python",
   "name": "python3"
  },
  "language_info": {
   "codemirror_mode": {
    "name": "ipython",
    "version": 3
   },
   "file_extension": ".py",
   "mimetype": "text/x-python",
   "name": "python",
   "nbconvert_exporter": "python",
   "pygments_lexer": "ipython3",
   "version": "3.9.13"
  }
 },
 "nbformat": 4,
 "nbformat_minor": 5
}
