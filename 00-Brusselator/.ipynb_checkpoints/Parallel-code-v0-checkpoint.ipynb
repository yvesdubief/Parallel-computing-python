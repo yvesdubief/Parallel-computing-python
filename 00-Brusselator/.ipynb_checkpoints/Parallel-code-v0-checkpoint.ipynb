{
 "cells": [
  {
   "cell_type": "markdown",
   "id": "d23ab99c",
   "metadata": {},
   "source": [
    "# Parallel Brusselator (1)\n",
    "\n",
    "## Short introduction to MPI(4py)\n",
    "\n",
    "In python the library `mpi4py` provides all the functionalities of the **M**essage **P**assing **I**nterface (**MPI**). This notebook applies a few essential commands:\n",
    "* `comm = MPI.COMM_WORLD`: creates a communication world that contains the rank `rank = comm.Get_rank()`, size `size = comm.Get_size()`\n",
    "* `comm.send(data, dest = i, tag = j)` to send `data` from process `j` to process `i`\n",
    "* `data = comm.recv(source = i, tag = rank)` to receive `data` from process i\n",
    "* `data = comm.bcast(data, root = rootrank)` to broadcast `data` from process `rootrank` to all other processes"
   ]
  },
  {
   "cell_type": "code",
   "execution_count": null,
   "id": "9f3c9ac5",
   "metadata": {},
   "outputs": [],
   "source": [
    "%%file hellompi.py\n",
    "\"\"\"\n",
    "Parallel Hello World\n",
    "\"\"\"\n",
    "\n",
    "from mpi4py import MPI\n",
    "import sys\n",
    "comm = MPI.COMM_WORLD\n",
    "size = comm.Get_size()\n",
    "rank = comm.Get_rank()\n",
    "name = MPI.Get_processor_name() #optional only useful if running on different machines\n",
    "\n",
    "sys.stdout.write(\n",
    "    \"Hello, I am process %d of %d on %s.\\n\" \n",
    "    % (rank, size, name))"
   ]
  },
  {
   "cell_type": "markdown",
   "id": "5cb63183",
   "metadata": {},
   "source": [
    "## Assignment\n",
    "\n",
    "Parallelize the Brusselator code using the above MPI command."
   ]
  },
  {
   "cell_type": "code",
   "execution_count": null,
   "id": "8b9851d0",
   "metadata": {},
   "outputs": [],
   "source": []
  }
 ],
 "metadata": {
  "kernelspec": {
   "display_name": "Python 3 (ipykernel)",
   "language": "python",
   "name": "python3"
  },
  "language_info": {
   "codemirror_mode": {
    "name": "ipython",
    "version": 3
   },
   "file_extension": ".py",
   "mimetype": "text/x-python",
   "name": "python",
   "nbconvert_exporter": "python",
   "pygments_lexer": "ipython3",
   "version": "3.9.13"
  }
 },
 "nbformat": 4,
 "nbformat_minor": 5
}
